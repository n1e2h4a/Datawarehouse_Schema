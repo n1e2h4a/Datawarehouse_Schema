{
 "cells": [
  {
   "cell_type": "code",
   "execution_count": 1,
   "metadata": {},
   "outputs": [
    {
     "name": "stdout",
     "output_type": "stream",
     "text": [
      "Collecting mysql-connector\n",
      "\u001b[33m  Cache entry deserialization failed, entry ignored\u001b[0m\n",
      "\u001b[33m  Cache entry deserialization failed, entry ignored\u001b[0m\n",
      "  Downloading https://files.pythonhosted.org/packages/28/04/e40098f3730e75bbe36a338926f566ea803550a34fb50535499f4fc4787a/mysql-connector-2.2.9.tar.gz (11.9MB)\n",
      "\u001b[K    100% |████████████████████████████████| 11.9MB 62kB/s eta 0:00:011 9% |███                             | 1.1MB 2.6MB/s eta 0:00:05    36% |███████████▋                    | 4.3MB 10.9MB/s eta 0:00:01\n",
      "\u001b[?25hBuilding wheels for collected packages: mysql-connector\n",
      "  Running setup.py bdist_wheel for mysql-connector ... \u001b[?25ldone\n",
      "\u001b[?25h  Stored in directory: /home/niharika/.cache/pip/wheels/8c/83/a1/f8b6d4bb1bd6208bbde1608bbfa7557504bed9eaf2ecf8c175\n",
      "Successfully built mysql-connector\n",
      "Installing collected packages: mysql-connector\n",
      "Successfully installed mysql-connector-2.2.9\n"
     ]
    }
   ],
   "source": [
    "!pip3 install mysql-connector"
   ]
  },
  {
   "cell_type": "code",
   "execution_count": 5,
   "metadata": {},
   "outputs": [
    {
     "name": "stdout",
     "output_type": "stream",
     "text": [
      "connection success\n"
     ]
    }
   ],
   "source": [
    "import mysql.connector as mysql\n",
    "try:\n",
    "    db = mysql.connect(\n",
    "        host = \"localhost\",\n",
    "        user = \"userdb\",\n",
    "        passwd = \"123456@Abc\"\n",
    "    )\n",
    "\n",
    "    print('connection successful') \n",
    "except ConnectionError:\n",
    "    pass"
   ]
  },
  {
   "cell_type": "code",
   "execution_count": 6,
   "metadata": {},
   "outputs": [],
   "source": [
    "import mysql.connector as mysql\n",
    "\n",
    "db = mysql.connect(\n",
    "    host = \"localhost\",\n",
    "    user = \"userdb\",\n",
    "    passwd = \"123456@Abc\"\n",
    ")\n",
    "\n",
    "## creating an instance of 'cursor' class which is used to execute the 'SQL' statements in 'Python'\n",
    "cursor = db.cursor()\n",
    "\n",
    "## creating a databse called 'datacamp'\n",
    "## 'execute()' method is used to compile a 'SQL' statement\n",
    "## below statement is used to create tha 'datacamp' database\n",
    "cursor.execute(\"CREATE DATABASE Sales_DW\")"
   ]
  },
  {
   "cell_type": "code",
   "execution_count": 7,
   "metadata": {},
   "outputs": [
    {
     "name": "stdout",
     "output_type": "stream",
     "text": [
      "[('information_schema',), ('MYBOOK',), ('Sales_DW',), ('db1',), ('db2',), ('etl',), ('metastore',), ('mybook',), ('mysql',), ('new_db',), ('performance_schema',), ('sqoopy',), ('sys',), ('testdb',)]\n",
      "('information_schema',)\n",
      "('MYBOOK',)\n",
      "('Sales_DW',)\n",
      "('db1',)\n",
      "('db2',)\n",
      "('etl',)\n",
      "('metastore',)\n",
      "('mybook',)\n",
      "('mysql',)\n",
      "('new_db',)\n",
      "('performance_schema',)\n",
      "('sqoopy',)\n",
      "('sys',)\n",
      "('testdb',)\n"
     ]
    }
   ],
   "source": [
    "cursor.execute(\"SHOW DATABASES\")\n",
    "\n",
    "## 'fetchall()' method fetches all the rows from the last executed statement\n",
    "databases = cursor.fetchall() ## it returns a list of all databases present\n",
    "\n",
    "## printing the list of databases\n",
    "print(databases)\n",
    "\n",
    "## showing one by one database\n",
    "for database in databases:\n",
    "    print(database)"
   ]
  },
  {
   "cell_type": "code",
   "execution_count": 8,
   "metadata": {},
   "outputs": [],
   "source": [
    "import mysql.connector as mysql\n",
    "\n",
    "db = mysql.connect(\n",
    "    host = \"localhost\",\n",
    "    user = \"userdb\",\n",
    "    passwd = \"123456@Abc\",\n",
    "    database = \"Sales_DW\"\n",
    ")\n",
    "cursor = db.cursor()"
   ]
  },
  {
   "cell_type": "code",
   "execution_count": 10,
   "metadata": {},
   "outputs": [],
   "source": [
    "cursor = db.cursor()\n",
    "cursor.execute(\"CREATE TABLE DimCustomer (CustomerAltID varchar(10) not null PRIMARY KEY, \\\n",
    "CustomerName varchar(50), Gender varchar(20))\")\n",
    "\n"
   ]
  },
  {
   "cell_type": "code",
   "execution_count": 11,
   "metadata": {},
   "outputs": [],
   "source": [
    "\n",
    "#Inserting data into table\n",
    "query = \"INSERT INTO DimCustomer (CustomerAltID, CustomerName, Gender) VALUES (%s ,%s, %s)\"\n",
    "\n",
    "values = [\n",
    "('IMI-001','Henry Ford','M'),\n",
    "('IMI-002','Bill Gates','M'),\n",
    "('IMI-003','Muskan Shaikh','F'),\n",
    "('IMI-004','Richard Thrubin','M'),\n",
    "('IMI-005','Emma Wattson','F')\n",
    "]"
   ]
  },
  {
   "cell_type": "code",
   "execution_count": null,
   "metadata": {},
   "outputs": [],
   "source": [
    "Create table DimProduct\n",
    "(\n",
    "ProductKey int primary key identity,\n",
    "ProductAltKey varchar(10)not null,\n",
    "ProductName varchar(100),\n",
    "ProductActualCost money,\n",
    "ProductSalesCost money\n",
    "\n",
    ")\n"
   ]
  },
  {
   "cell_type": "code",
   "execution_count": null,
   "metadata": {},
   "outputs": [],
   "source": [
    "cursor = db.cursor()\n",
    "\n",
    "Insert into DimProduct(ProductAltKey,ProductName, ProductActualCost, ProductSalesCost)values\n",
    "('ITM-001','Wheat Floor 1kg',5.50,6.50),\n",
    "('ITM-002','Rice Grains 1kg',22.50,24),\n",
    "('ITM-003','SunFlower Oil 1 ltr',42,43.5),\n",
    "('ITM-004','Nirma Soap',18,20),\n",
    "('ITM-005','Arial Washing Powder 1kg',135,139);\n"
   ]
  },
  {
   "cell_type": "code",
   "execution_count": null,
   "metadata": {},
   "outputs": [],
   "source": [
    "Create table DimStores\n",
    "(\n",
    "StoreID int primary key identity,\n",
    "StoreAltID varchar(10)not null,\n",
    "StoreName varchar(100),\n",
    "StoreLocation varchar(100),\n",
    "City varchar(100),\n",
    "State varchar(100),\n",
    "Country varchar(100)\n",
    ")\n"
   ]
  },
  {
   "cell_type": "code",
   "execution_count": null,
   "metadata": {},
   "outputs": [],
   "source": [
    "Insert into DimStores(StoreAltID,StoreName,StoreLocation,City,State,Country )values\n",
    "('LOC-A1','X-Mart','S.P. RingRoad','Ahmedabad','Guj','India'),\n",
    "('LOC-A2','X-Mart','Maninagar','Ahmedabad','Guj','India'),\n",
    "('LOC-A3','X-Mart','Sivranjani','Ahmedabad','Guj','India');"
   ]
  },
  {
   "cell_type": "code",
   "execution_count": null,
   "metadata": {},
   "outputs": [],
   "source": [
    "Create table DimSalesPerson\n",
    "(\n",
    "SalesPersonID int primary key identity,\n",
    "SalesPersonAltID varchar(10)not null,\n",
    "SalesPersonName varchar(100),\n",
    "StoreID int,\n",
    "City varchar(100),\n",
    "State varchar(100),\n",
    "Country varchar(100)\n",
    ")"
   ]
  },
  {
   "cell_type": "code",
   "execution_count": null,
   "metadata": {},
   "outputs": [],
   "source": [
    "Insert into DimSalesPerson(SalesPersonAltID,SalesPersonName,StoreID,City,State,Country )values\n",
    "('SP-DMSPR1','Ashish',1,'Ahmedabad','Guj','India'),\n",
    "('SP-DMSPR2','Ketan',1,'Ahmedabad','Guj','India'),\n",
    "('SP-DMNGR1','Srinivas',2,'Ahmedabad','Guj','India'),\n",
    "('SP-DMNGR2','Saad',2,'Ahmedabad','Guj','India'),\n",
    "('SP-DMSVR1','Jasmin',3,'Ahmedabad','Guj','India'),\n",
    "('SP-DMSVR2','Jacob',3,'Ahmedabad','Guj','India');"
   ]
  },
  {
   "cell_type": "code",
   "execution_count": null,
   "metadata": {},
   "outputs": [],
   "source": [
    "Create Table FactProductSales\n",
    "(\n",
    "TransactionId bigint primary key,\n",
    "SalesInvoiceNumber int not null,\n",
    "StoreAltID varchar(10) not null,\n",
    "CustomerAltID varchar(10) not null,\n",
    "ProductID varchar(255) not null,\n",
    "SalesPersonAltID varchar(10) not null,\n",
    "Quantity float,\n",
    "SalesTotalCost double,\n",
    "ProductActualCost double,\n",
    "Deviation float\n",
    ");"
   ]
  },
  {
   "cell_type": "code",
   "execution_count": null,
   "metadata": {},
   "outputs": [],
   "source": [
    "-- Add relation between fact table foreign keys to Primary keys of Dimensions\n",
    "AlTER TABLE FactProductSales ADD FOREIGN KEY (StoreAltID)REFERENCES DimStores(StoreAltID);\n",
    "AlTER TABLE FactProductSales ADD FOREIGN KEY (CustomerAltID)REFERENCES Dimcustomer(CustomerAltID);\n",
    "AlTER TABLE FactProductSales ADD FOREIGN KEY (ProductID)REFERENCES Dimproduct(ProductAltKey);\n",
    "AlTER TABLE FactProductSales ADD FOREIGN KEY (SalesPersonAltID)REFERENCES DimSalesPerson(SalesPersonAltID);"
   ]
  },
  {
   "cell_type": "code",
   "execution_count": null,
   "metadata": {},
   "outputs": [],
   "source": [
    "Insert into FactProductSales(SalesInvoiceNumber,StoreAltID,CustomerAltID,ProductID,\n",
    "SalesPersonAltID,Quantity,ProductActualCost,SalesTotalCost,Deviation)values\n",
    "--1-jan-2013\n",
    "--SalesInvoiceNumber,StoreAltID,CustomerAltID,ProductID,SalesPersonAltID,Quantity,_\n",
    "ProductActualCost,SalesTotalCost,Deviation)\n",
    "(1,1,1,1,1,2,11,13,2),\n",
    "(1,1,1,2,1,1,22.50,24,1.5),\n",
    "(1,1,1,3,1,1,42,43.5,1.50);"
   ]
  }
 ],
 "metadata": {
  "kernelspec": {
   "display_name": "Python 3",
   "language": "python",
   "name": "python3"
  },
  "language_info": {
   "codemirror_mode": {
    "name": "ipython",
    "version": 3
   },
   "file_extension": ".py",
   "mimetype": "text/x-python",
   "name": "python",
   "nbconvert_exporter": "python",
   "pygments_lexer": "ipython3",
   "version": "3.6.9"
  }
 },
 "nbformat": 4,
 "nbformat_minor": 4
}
